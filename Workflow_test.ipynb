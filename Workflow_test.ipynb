{
 "cells": [
  {
   "cell_type": "markdown",
   "metadata": {},
   "source": [
    "# Workflow test for `micaflow`\n",
    "\n",
    "## Inputs in BIDS\n",
    "\n",
    "- BIDS directory example: `/data/mica3/BIDS_MICs/rawdata`\n",
    "\n",
    "- subject for test `sub-HC126`\n",
    "\n",
    "- session `ses-01`\n",
    "\n",
    "- T1w input test: `/data/mica3/BIDS_MICs/rawdata/sub-HC126/ses-01/anat/sub-HC126_ses-01_T1w.nii.gz`\n",
    "\n",
    "\n",
    "## Output structure\n",
    "where type can be `T1w`, `FLAIR`, or `T2w`.\n",
    "https://bids-specification.readthedocs.io/en/stable/modality-specific-files/magnetic-resonance-imaging-data.html\n",
    "\n",
    "\n",
    "BIDS specifications. \n",
    "`OUTDIR/sub-SUBJECT/ses-SESSION/anat/sub-SUBJECT_ses-SESSION_TYPE.nii.gz`\n",
    "\n",
    "\n",
    "## Dependencies\n",
    "1. freesurfer 7.4.0\n",
    "\n",
    "2. ANTS maybe yes maybe no\n",
    "\n",
    "3. python. What packages?\n",
    "\n",
    "## workflow \n",
    "1. Brain mask `mri_synthstrip` Maybe this step can be avoided and we might be able to use the brain segmentation\n",
    "2. Bias field correction (ANTs) weighted by white matter\n",
    "3. Normalization\n",
    "4. Brain segmentation `synth_seg` from freesurfer\n",
    "5. Registration to MNI\n",
    "\n",
    "\n",
    "### Intensity Non-uniform correction - N4\n",
    "```bash\n",
    "N4BiasFieldCorrection  -d 3 -i \"$T1n4\" -r -o \"$T1n4\" -v\n",
    "```\n",
    "\n",
    "### Brain mask\n",
    "```bash\n",
    "mri_synthstrip -i \"$T1nativepro\" -o \"$T1nativepro_brain\" -m \"$T1nativepro_mask\" --no-csf\n",
    "```\n",
    "\n",
    "### Normalization `02_proc_flair`\n",
    "\n",
    "### Segmentation 'synth_seg'\n",
    "\n",
    "```bash\n",
    "# Define variables\n",
    "out=/host/yeatman/local_raid/rcruces/data/tmp\n",
    "\n",
    "img_fixed=/data_/mica3/BIDS_PNI/derivatives/micapipe_v0.2.0/sub-PNC019/ses-03/anat/sub-PNC019_ses-03_space-nativepro_T1w_nlm.nii.gz\n",
    "\n",
    "img_moving=/data_/mica3/BIDS_PNI/derivatives/Denoised_T2star/10PNC_nomask/sub-PNC019_ses-03_B1-corrected_T2starmap_nomask_denoised.nii\n",
    "\n",
    "id=sub-PNC019_ses-03\n",
    "outname=${out}/${id}_space-nativepro_T2star.nii.gz\n",
    "\n",
    "threads=15\n",
    "\n",
    "# Use synthseg to get the labels of the fixed and moving image\n",
    "mri_synthseg --i ${img_moving} \\\n",
    "             --o ${out}/${id}_moving_synthseg.nii.gz \\\n",
    "             --parc --threads ${threads} --cpu\n",
    "\n",
    "mri_synthseg --i ${img_fixed} \\\n",
    "             --o ${out}/${id}_fixed_synthseg.nii.gz \\\n",
    "             --parc --threads ${threads} --cpu\n",
    "\n",
    "```\n",
    "\n",
    "### Registration to MNI `easy_reg`\n",
    "```bash\n",
    "# Calculate the warpfield and affine transformation with easyreg\n",
    "mri_easyreg --ref ${img_fixed} \\\n",
    "            --flo ${img_moving} \\\n",
    "            --ref_seg ${out}/${id}_fixed_synthseg.nii.gz \\\n",
    "            --flo_seg ${out}/${id}_moving_synthseg.nii.gz \\\n",
    "            --fwd_field ${out}/${id}_from-moving_to-fixed_mode-image_desc-easyreg.nii.gz \\\n",
    "            --threads ${threads} \n",
    "```"
   ]
  },
  {
   "cell_type": "markdown",
   "metadata": {},
   "source": [
    "## Pre-workflow\n",
    "\n",
    "> The segmentation of the MNI152 only has to be calculated once"
   ]
  },
  {
   "cell_type": "markdown",
   "metadata": {
    "scrolled": true
   },
   "source": [
    "```bash\n",
    "# Output of the segmentation, this and the nifti must be inside the repository!\n",
    "atlas_dir=/host/yeatman/local_raid/cerys/Downloads/mni_icbm152_nlin_sym_09a\n",
    "\n",
    "# MNI152 compresed NIFTI\n",
    "atlas_mni152_nlin_sym=${atlas_dir}/mni_icbm152_t1_tal_nlin_sym_09a.nii.gz\n",
    "\n",
    "# Number of threads if CPU is used\n",
    "threads=15\n",
    "\n",
    "# Segmentation of the MNI152 non linear symetric 1x1Xx1 mm\n",
    "# Take into account including or not the option --cpu (optional) Enforce running with CPU rather than GPU.\n",
    "mri_synthseg --i ${atlas_mni152_nlin_sym} \\\n",
    "             --o ${atlas_dir}/mni_icbm152_t1_tal_nlin_sym_09a_synthseg.nii.gz \\\n",
    "             --robust --vol ${atlas_dir}/mni_icbm152_t1_tal_nlin_sym_09a_volumes.csv \\\n",
    "             --qc ${atlas_dir}/mni_icbm152_t1_tal_nlin_sym_09a_qc.csv --threads ${threads} --cpu --parc\n",
    "```"
   ]
  },
  {
   "cell_type": "markdown",
   "metadata": {},
   "source": [
    "# Workflow `micaflow`\n",
    "\n",
    "1. Create a bash script with all the steps that takes an input and generates the output files\n",
    "2. See if this can be incorporated within nextflow\n",
    "\n",
    "\n",
    "## Test script\n",
    "```bash\n",
    "micaflow_tmp.sh\n",
    "  \t--subject sub-HC062 \\\n",
    "  \t--session ses-03 \\\n",
    "  \t--out_dir /host/yeatman/local_raid/cerys/micaflow_test \\\n",
    "  \t--fs_license /data_/mica1/01_programs/freesurfer-7.3.2/license.txt \\\n",
    "  \t--threads 15\n",
    "```\n",
    "\n",
    "\n",
    "## Define variables"
   ]
  },
  {
   "cell_type": "code",
   "execution_count": 2,
   "metadata": {},
   "outputs": [],
   "source": [
    "%%bash\n",
    "# ------------------------------------------------------------------------------------\n",
    "# Mandatory inputs\n",
    "# ID string\n",
    "subject=sub-HC062\n",
    "session=ses-03\n",
    "\n",
    "# Output directory\n",
    "out_dir=/host/yeatman/local_raid/cerys/micaflow_test\n",
    "\n",
    "# Freesurfer license\n",
    "fs_license_file=/data_/mica1/01_programs/freesurfer-7.3.2/license.txt\n",
    "\n",
    "# Number of threads if CPU is used\n",
    "threads=15\n",
    "\n",
    "# ------------------------------------------------------------------------------------\n",
    "# Variables\n",
    "# ID string\n",
    "BIDS_ID=${subject}_${session}\n",
    "\n",
    "# Output directory specific to subject and session\n",
    "out=${out_dir}/${subject}/${session}/anat\n",
    "\n",
    "# Input image\n",
    "#T1w=/data/mica3/BIDS_MICs/rawdata/${subject}/${session}/anat/${BIDS_ID}_T1w.nii.gz\n",
    "\n",
    "T1w=/data_/mica3/BIDS_MICs/rawdata/${subject}/${session}/anat/${BIDS_ID}_run-1_T1w.nii.gz\n",
    "flair=/data/mica3/BIDS_MICs/rawdata/${subject}/${session}/anat/${BIDS_ID}_FLAIR.nii.gz\n",
    "\n",
    "\n",
    "\n",
    "## Final Output - not used??\n",
    "T1_preproc=${out}/${BIDS_ID}_preproc_T1w.nii.gz\n",
    "\n",
    "\n",
    "# If the directory does not exist create it\n",
    "mkdir -p $out"
   ]
  },
  {
   "cell_type": "markdown",
   "metadata": {},
   "source": [
    "## 1. Brain segmentation `mri_synthseg`"
   ]
  },
  {
   "cell_type": "code",
   "execution_count": 4,
   "metadata": {},
   "outputs": [
    {
     "name": "stdout",
     "output_type": "stream",
     "text": [
      "mri_synthseg --i --o /_desc-synthseg_T1w.nii.gz --robust --vol /_desc-volumes_T1w.csv --qc /_desc-qc_T1w.csv --threads 10 --cpu\n"
     ]
    }
   ],
   "source": [
    "%%bash\n",
    "# Segmentation of the T1w image\n",
    "# Take into account including or not the option --cpu (optional) Enforce running with CPU rather than GPU.\n",
    "mri_synthseg --i ${T1w} \\\n",
    "             --o ${out}/${BIDS_ID}_desc-synthseg_T1w.nii.gz \\\n",
    "             --robust --vol ${out}/${BIDS_ID}_desc-volumes_T1w.csv \\\n",
    "             --qc ${out}/${BIDS_ID}_desc-qc_T1w.csv --threads ${threads} --cpu --parc\n",
    "\n",
    "# Segmentation of the FLAIR image\n",
    "mri_synthseg --i ${flair} \\\n",
    "             --o ${out}/${BIDS_ID}_desc-synthseg_FLAIR.nii.gz \\\n",
    "             --robust --vol ${out}/${BIDS_ID}_desc-volumes_FLAIR.csv \\\n",
    "             --qc ${out}/${BIDS_ID}_desc-qc_FLAIR.csv --threads ${threads} --cpu --parc"
   ]
  },
  {
   "cell_type": "markdown",
   "metadata": {},
   "source": [
    "## Note: If the input image is NOT 1x1x1 the labels wil not match"
   ]
  },
  {
   "cell_type": "code",
   "execution_count": null,
   "metadata": {},
   "outputs": [],
   "source": [
    "# synthseg_resampled is only generated if the voxel sizes don't match; in this case, you will need to do an affine registration back to FLAIR native space\n",
    "    if [ -f \"${tmp}/${idBIDS}_flair_synthseg_resampled.nii.gz\" ]; then\n",
    "        # Affine registration from flair_synthseg_resampled to FLAIR native space\n",
    "        flair_resample2orig=\"${tmp}/${idBIDS}_flair_synthresample_to_orig_\"\n",
    "        antsRegistrationSyN.sh -d 3 -f \"${flairScan}\" -m \"${flair_resample}\" -o \"${flair_resample2orig}\" -t a -n \"$threads\" -p d\n",
    "        # Apply transformation to flair_synthseg\n",
    "        flair_synthseg_orig=\"${tmp}/${idBIDS}_flair_synthseg_orig.nii.gz\"\n",
    "        antsApplyTransforms -d 3 -i \"${flair_synthseg}\" -r \"${flairScan}\" -t \"${flair_resample2orig}\"0GenericAffine.mat -o \"${flair_synthseg_orig}\" -v -u float -n GenericLabel\n",
    "        # flair_synthseg in original FLAIR space\n",
    "        flair_synthseg=\"${flair_synthseg_orig}\"\n",
    "    fi"
   ]
  },
  {
   "cell_type": "markdown",
   "metadata": {},
   "source": [
    "## 1.a Extract the white matter segmentation"
   ]
  },
  {
   "cell_type": "code",
   "execution_count": 5,
   "metadata": {},
   "outputs": [
    {
     "ename": "SyntaxError",
     "evalue": "invalid syntax (<ipython-input-5-3d2147de6cfa>, line 2)",
     "output_type": "error",
     "traceback": [
      "\u001b[0;36m  File \u001b[0;32m\"<ipython-input-5-3d2147de6cfa>\"\u001b[0;36m, line \u001b[0;32m2\u001b[0m\n\u001b[0;31m    mri_binarize --i sub-HC126_ses-01_desc-synthseg_T1w.nii.gz --match 2 --match 41 \\--o sub-HC126_ses-01_desc-wm_T1w.nii.gz\u001b[0m\n\u001b[0m                       ^\u001b[0m\n\u001b[0;31mSyntaxError\u001b[0m\u001b[0;31m:\u001b[0m invalid syntax\n"
     ]
    }
   ],
   "source": [
    "%%bash\n",
    "# 1.A | WM white matter mask (lh=2, rh=41)\n",
    "mri_binarize --i ${out}/${BIDS_ID}_desc-synthseg_T1w.nii.gz --match 2 --match 41 \\\n",
    "--o ${out}/sub-HC126_ses-01_desc-wm_T1w.nii.gz"
   ]
  },
  {
   "cell_type": "markdown",
   "metadata": {},
   "source": [
    "# 2. Run N4 weighted by white matter"
   ]
  },
  {
   "cell_type": "code",
   "execution_count": 7,
   "metadata": {},
   "outputs": [
    {
     "name": "stdout",
     "output_type": "stream",
     "text": [
      "N4BiasFieldCorrection -d 3 -i  -r -o /_desc-N4_T1w.nii.gz -v -w /sub-HC126_ses-01_desc-wm_T1w.nii.gz\n"
     ]
    }
   ],
   "source": [
    "%%bash\n",
    "# N4 multi-thread requires this on the ENV\n",
    "export ITK_GET_GLOBAL_DEFAULT_NUMBER_OF_THREADS=${threads}\n",
    "\n",
    "# Bias field correction (ANTS) for T1w\n",
    "N4BiasFieldCorrection  -d 3 -i \"$T1w\" -r -o \"${out}/${BIDS_ID}_desc-N4_T1w.nii.gz\" -v\n",
    "#-w ${out}/sub-HC126_ses-01_desc-wm_T1w.nii.gz\n",
    "\n",
    "# Bias field correction for FLAIR\n",
    "N4BiasFieldCorrection  -d 3 -i \"$flair\" -r -o \"${out}/${BIDS_ID}_desc-N4_FLAIR.nii.gz\" -v"
   ]
  },
  {
   "cell_type": "markdown",
   "metadata": {},
   "source": [
    "# 3. Registration to MNI space"
   ]
  },
  {
   "cell_type": "code",
   "execution_count": 1,
   "metadata": {},
   "outputs": [
    {
     "name": "stderr",
     "output_type": "stream",
     "text": [
      "2024-04-09 10:35:25.937093: I tensorflow/core/platform/cpu_feature_guard.cc:182] This TensorFlow binary is optimized to use available CPU instructions in performance-critical operations.\n",
      "To enable the following instructions: AVX2 FMA, in other operations, rebuild TensorFlow with the appropriate compiler flags.\n",
      "2024-04-09 10:36:07.490048: W tensorflow/compiler/tf2tensorrt/utils/py_utils.cc:38] TF-TRT Warning: Could not find TensorRT\n",
      "usage: mri_easyreg [-h] [--ref REF] [--ref_seg REF_SEG] [--flo FLO]\n",
      "                   [--flo_seg FLO_SEG] [--ref_reg REF_REG] [--flo_reg FLO_REG]\n",
      "                   [--fwd_field FWD_FIELD] [--bak_field BAK_FIELD]\n",
      "                   [--affine_only] [--threads THREADS]\n",
      "mri_easyreg: error: argument --flo: expected one argument\n"
     ]
    }
   ],
   "source": [
    "%%bash\n",
    "\n",
    "# Output of the segmentation, this and the nifti must be inside the repository!\n",
    "atlas_dir=/host/yeatman/local_raid/cerys/Downloads/mni_icbm152_nlin_sym_09a\n",
    "\n",
    "# MNI152 compresed NIFTI\n",
    "atlas_mni152=${atlas_dir}/mni_icbm152_t1_tal_nlin_sym_09a.nii.gz\n",
    "atlas_mni152_seg=${atlas_dir}/mni_icbm152_t1_tal_nlin_sym_09a_synthseg.nii.gz\n",
    "\n",
    "# Registration to MNI\n",
    "mri_easyreg --ref ${atlas_mni152} \\\n",
    "            --ref_seg ${atlas_mni152_seg} \\\n",
    "            --flo ${T1w} \\\n",
    "            --flo_seg ${out}/${BIDS_ID}_desc-synthseg_T1w.nii.gz \\\n",
    "            --fwd_field ${out}/${BIDS_ID}_from-T1w_to-MNI151_1mm_desc-easyreg_fwdfield.nii.gz \\\n",
    "            --bak_field ${out}/${BIDS_ID}_from-T1w_to-MNI151_1mm_desc-easyreg_bakfield.nii.gz \\\n",
    "            --threads ${threads}"
   ]
  },
  {
   "cell_type": "markdown",
   "metadata": {},
   "source": [
    "# 4. Apply warp from `easyreg` T1w to MNI space"
   ]
  },
  {
   "cell_type": "code",
   "execution_count": null,
   "metadata": {},
   "outputs": [],
   "source": [
    "%%bash\n",
    "\n",
    "# Apply the warpfield\n",
    "mri_easywarp --i ${out}/${BIDS_ID}_desc-N4_T1w.nii.gz \\\n",
    "             --o ${out}/${BIDS_ID}_space-MNI152_1m_T1w.nii.gz \\\n",
    "             --field ${out}/${BIDS_ID}_from-T1w_to-MNI151_1mm_desc-easyreg_fwdfield.nii.gz \\\n",
    "             --threads ${threads} --nearest"
   ]
  },
  {
   "cell_type": "markdown",
   "metadata": {},
   "source": [
    "# 5. Align T2/FLAIR to T1w"
   ]
  },
  {
   "cell_type": "code",
   "execution_count": null,
   "metadata": {},
   "outputs": [],
   "source": [
    "%%bash\n",
    "# Old method don't use\n",
    "bbregister --s bert \\ # freesurfer's subject directory?\n",
    "           --mov ${flair} \\\n",
    "           --init-fsl\n",
    "           --reg ${out}/${BIDS_ID}_FLAIR_to_T1w.dat \\\n",
    "           --t1 \\\n",
    "           --o ${out}/${BIDS_ID}_FLAIR_registered_to_T1w.nii.gz"
   ]
  },
  {
   "cell_type": "code",
   "execution_count": null,
   "metadata": {},
   "outputs": [],
   "source": [
    "%%bash\n",
    "           \n",
    "# Registration to MNI\n",
    "mri_easyreg --ref ${out}/${BIDS_ID}_desc-N4_T1w.nii.gz \\\n",
    "            --ref_seg ${out}/${BIDS_ID}_desc-synthseg_T1w.nii.gz \\\n",
    "            --flo ${flair} \\\n",
    "            --flo_seg ${out}/${BIDS_ID}_desc-synthseg_FLAIR.nii.gz \\\n",
    "            --fwd_field ${out}/${BIDS_ID}_from-FLAIR_to-T1w_desc-easyreg_fwdfield.nii.gz \\\n",
    "            --bak_field ${out}/${BIDS_ID}_from-FLAIR_to-T1w_desc-easyreg_bakfield.nii.gz \\\n",
    "            --threads ${threads}"
   ]
  },
  {
   "cell_type": "markdown",
   "metadata": {},
   "source": [
    "# 6. Use ``mri_easywarp`` with the forward field obtained from the T1w-to-MNI registration to warp T2/FLAIR images to MNI space"
   ]
  },
  {
   "cell_type": "code",
   "execution_count": null,
   "metadata": {},
   "outputs": [],
   "source": [
    "# Apply forward transformation to the FLAIR image\n",
    "mri_easywarp --i ${out}/${BIDS_ID}_desc-N4_FLAIR.nii.gz \\\n",
    "             --o ${out}/${BIDS_ID}_space-MNI152_1mm_FLAIR.nii.gz \\\n",
    "             --field ${out}/${BIDS_ID}_from-T1w_to-MNI151_1mm_desc-easyreg_fwdfield.nii.gz \\\n",
    "             --threads ${threads} --nearest"
   ]
  },
  {
   "cell_type": "markdown",
   "metadata": {},
   "source": [
    "# Image data normalization \n",
    "https://github.com/rcruces/preproc_reports/blob/main/notebooks/flair_mode-normalization.ipynb"
   ]
  },
  {
   "cell_type": "code",
   "execution_count": null,
   "metadata": {},
   "outputs": [],
   "source": [
    "%%bash\n",
    "# The the mode of the GM, WM and whole brain\n",
    "function get_mode() {\n",
    "  # This functions uses mrhistogram to calculate the mode with awk.\n",
    "  # Using 1000 bins gets the same results as python\n",
    "  MRI_img=$1\n",
    "  MRI_mask=$2\n",
    "  bins=$3\n",
    "  # Create histogram file\n",
    "  hist=${tmp}/hist_masked.txt\n",
    "  mrhistogram -bins \"${bins}\" -mask \"${MRI_mask}\" -ignorezero -nthreads \"${threads}\" \"${MRI_img}\" \"${hist}\"\n",
    "  # get the index with the max frecuency\n",
    "  max_val=$(awk -F ',' 'NR==3 { m=$3; p=1; for(i=4;i<=NF;i++) { if ($i>m) { m=$i; p=i-2 } } printf \"%d \",p }' \"${hist}\")\n",
    "  # bash array of each intensity bin\n",
    "  intensities=($(awk 'NR==2' \"${hist}\" | tr -s ',' ' '))\n",
    "  # get the intensity of the maximun frecuency (aka mode)\n",
    "  mode=${intensities[$((max_val-1))]}\n",
    "  # remove tmp file\n",
    "  rm \"${hist}\"\n",
    "  # Print the mode\n",
    "  echo \"${mode}\" | awk -F\"e\" 'BEGIN{OFMT=\"%10.10f\"} {print $1 * (10 ^ $2)}'\n",
    "}"
   ]
  },
  {
   "cell_type": "code",
   "execution_count": null,
   "metadata": {},
   "outputs": [],
   "source": [
    "%%bash\n",
    "\n",
    "#------------------------------------------------------------------------------#\n",
    "# 4 | Get the mode for each tissue\n",
    "mode_gm=$(get_mode \"${flair_N4}\" \"${flair_mask_gm}\" 1000)\n",
    "mode_wm=$(get_mode \"${flair_N4}\" \"${flair_mask_wm}\" 1000)\n",
    "mode_brain=$(get_mode \"${flair_N4}\" \"${flair_mask}\" 1000)\n",
    "\n",
    "Note \"mode_gm    :\" \"${mode_gm}\"\n",
    "Note \"mode_wm    :\" \"${mode_wm}\"\n",
    "Note \"mode_brain :\" \"${mode_brain}\"\n",
    "\n",
    "#------------------------------------------------------------------------------#\n",
    "# 5 | Normalize intensities by peak of WM (mode).\n",
    "# This normalization will center the peak of the WM mode intensity at ZERO.\n",
    "# Mean mode between GM and WM | BG=(GM_mode+WM_mode)/2.0\n",
    "BG=$(echo \"(${mode_gm}+${mode_wm})/2.0\" | bc -l)\n",
    "# mode difference | mode_diff = np.abs(BG - WM_mode)\n",
    "mode_diff=$(echo \"${BG}-${mode_wm}\" | bc); mode_diff=$(echo ${mode_diff#-})\n",
    "# Normalize array | norm_wm = 100.0 * (array - WM_mode)/(mode_diff)\n",
    "flair_norm=\"${tmp}/${idBIDS}_flair_norm.nii.gz\"\n",
    "Do_cmd mrcalc \"${flair_N4}\" \"${mode_wm}\" -subtract \"${mode_diff}\" -div 100 -mul \"${flair_norm}\""
   ]
  },
  {
   "cell_type": "markdown",
   "metadata": {},
   "source": [
    "## Check metrics for registration quality\n",
    "1. Jaccard index https://en.wikipedia.org/wiki/Jaccard_index\n",
    "2. Dice score\n",
    "\n",
    "## Try to find something faster than `N4BiasFieldCorrection`\n",
    "1. SPM (requires MatLab)\n",
    "2. FSL's FAST\n",
    "3. `mri_nu_correct.mni` from freesurfer - slow"
   ]
  },
  {
   "cell_type": "code",
   "execution_count": null,
   "metadata": {},
   "outputs": [],
   "source": []
  }
 ],
 "metadata": {
  "kernelspec": {
   "display_name": "Python 3 (ipykernel)",
   "language": "python",
   "name": "python3"
  },
  "language_info": {
   "codemirror_mode": {
    "name": "ipython",
    "version": 3
   },
   "file_extension": ".py",
   "mimetype": "text/x-python",
   "name": "python",
   "nbconvert_exporter": "python",
   "pygments_lexer": "ipython3",
   "version": "3.11.5"
  }
 },
 "nbformat": 4,
 "nbformat_minor": 2
}
