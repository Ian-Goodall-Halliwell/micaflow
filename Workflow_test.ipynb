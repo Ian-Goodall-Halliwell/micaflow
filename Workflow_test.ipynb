{
 "cells": [
  {
   "cell_type": "markdown",
   "metadata": {},
   "source": [
    "# Workflow test for `micaflow`\n",
    "\n",
    "## Inputs in BIDS\n",
    "\n",
    "- BIDS directory example: `/data/mica3/BIDS_MICs/rawdata`\n",
    "\n",
    "- subject for test `sub-HC126`\n",
    "\n",
    "- session `ses-01`\n",
    "\n",
    "- T1w input test: `/data/mica3/BIDS_MICs/rawdata/sub-HC126/ses-01/anat/sub-HC126_ses-01_T1w.nii.gz`\n",
    "\n",
    "\n",
    "## Output structure\n",
    "where type can be `T1w`, `FLAIR`, or `T2w`.\n",
    "https://bids-specification.readthedocs.io/en/stable/modality-specific-files/magnetic-resonance-imaging-data.html\n",
    "\n",
    "\n",
    "BIDS specifications. \n",
    "`OUTDIR/sub-SUBJECT/ses-SESSION/anat/sub-SUBJECT_ses-SESSION_TYPE.nii.gz`\n",
    "\n",
    "\n",
    "## Dependencies\n",
    "1. freesurfer 7.4.0\n",
    "\n",
    "2. ANTS maybe yes maybe no\n",
    "\n",
    "3. python. What packages?\n",
    "\n",
    "## workflow \n",
    "1. Bias field correction (ANTs) \n",
    "\n",
    "2. Brain mask `mri_synthstrip` Maybe this step can be avoided and we might be able to use the brain segmentation\n",
    "3. Normalization\n",
    "\n",
    "4. Brain segmentation `synth_seg` from freesurfer\n",
    "5. Registration to MNI\n",
    "\n",
    "\n",
    "### Intensity Non-uniform correction - N4\n",
    "```bash\n",
    "N4BiasFieldCorrection  -d 3 -i \"$T1n4\" -r -o \"$T1n4\" -v\n",
    "```\n",
    "\n",
    "### Brain mask\n",
    "```bash\n",
    "mri_synthstrip -i \"$T1nativepro\" -o \"$T1nativepro_brain\" -m \"$T1nativepro_mask\" --no-csf\n",
    "```\n",
    "\n",
    "### Normalization `02_proc_flair`\n",
    "\n",
    "### Segmentation 'synth_seg'\n",
    "\n",
    "```bash\n",
    "# Define variables\n",
    "out=/host/yeatman/local_raid/rcruces/data/tmp\n",
    "\n",
    "img_fixed=/data_/mica3/BIDS_PNI/derivatives/micapipe_v0.2.0/sub-PNC019/ses-03/anat/sub-PNC019_ses-03_space-nativepro_T1w_nlm.nii.gz\n",
    "\n",
    "img_moving=/data_/mica3/BIDS_PNI/derivatives/Denoised_T2star/10PNC_nomask/sub-PNC019_ses-03_B1-corrected_T2starmap_nomask_denoised.nii\n",
    "\n",
    "id=sub-PNC019_ses-03\n",
    "outname=${out}/${id}_space-nativepro_T2star.nii.gz\n",
    "\n",
    "threads=15\n",
    "\n",
    "# Use synthseg to get the labels of the fixed and moving image\n",
    "mri_synthseg --i ${img_moving} \\\n",
    "             --o ${out}/${id}_moving_synthseg.nii.gz \\\n",
    "             --parc --threads ${threads} --cpu\n",
    "\n",
    "mri_synthseg --i ${img_fixed} \\\n",
    "             --o ${out}/${id}_fixed_synthseg.nii.gz \\\n",
    "             --parc --threads ${threads} --cpu\n",
    "\n",
    "```\n",
    "\n",
    "### Registration to MNI `easy_reg`\n",
    "```bash\n",
    "# Calculate the warpfield and affine transformation with easyreg\n",
    "mri_easyreg --ref ${img_fixed} \\\n",
    "            --flo ${img_moving} \\\n",
    "            --ref_seg ${out}/${id}_fixed_synthseg.nii.gz \\\n",
    "            --flo_seg ${out}/${id}_moving_synthseg.nii.gz \\\n",
    "            --fwd_field ${out}/${id}_from-moving_to-fixed_mode-image_desc-easyreg.nii.gz \\\n",
    "            --threads ${threads} \n",
    "```"
   ]
  },
  {
   "cell_type": "code",
   "execution_count": null,
   "metadata": {
    "scrolled": true
   },
   "outputs": [],
   "source": [
    "%%bash\n",
    "out=/host/yeatman/local_raid/cerys/data\n",
    "\n",
    "img_fixed=/host/yeatman/local_raid/cerys/Downloads/mni_icbm152_nlin_sym_09a/mni_icbm152_t1_tal_nlin_sym_09a.nii\n",
    "\n",
    "input=/data/mica3/BIDS_MICs/rawdata/sub-HC126/ses-01/anat/sub-HC126_ses-01_T1w.nii.gz\n",
    "\n",
    "## T1n4, T1nativepro, T1nativepro_brain, T1nativepro_mask?\n",
    "\n",
    "id=sub-HC126_ses-01\n",
    "\n",
    "atlas= mri_synthseg --i ${img_fixed} \\\n",
    "             --o ${out}/${id}_fixed_synthseg.nii.gz \\\n",
    "             --parc --threads ${threads} --cpu"
   ]
  },
  {
   "cell_type": "code",
   "execution_count": null,
   "metadata": {},
   "outputs": [],
   "source": [
    "## 01_proc-structural.sh variables\n",
    "T1str_nat=\"${idBIDS}_space-nativepro_T1w\"\n",
    "T1reo=\"${tmp}/${T1str_nat}_reo.nii.gz\"\n",
    "T1n4=\"${tmp}/${T1str_nat}_n4.nii.gz\"\n",
    "T1nativepro=\"${proc_struct}/${T1str_nat}.nii.gz\"\n",
    "T1nativepro_brain=\"${proc_struct}/${idBIDS}_space-nativepro_T1w_brain.nii.gz\"\n",
    "T1nativepro_mask=\"${proc_struct}/${idBIDS}_space-nativepro_T1w_brain_mask.nii.gz\""
   ]
  },
  {
   "cell_type": "code",
   "execution_count": null,
   "metadata": {},
   "outputs": [],
   "source": [
    "%%bash\n",
    "# Bias field correction (ANTS)\n",
    "N4BiasFieldCorrection  -d 3 -i input -r -o [ corrected_T1w.nii.gz, T1w_BiasField.nii.gz ] -v"
   ]
  },
  {
   "cell_type": "code",
   "execution_count": null,
   "metadata": {},
   "outputs": [],
   "source": [
    "%%bash\n",
    "## 01_proc-structural.sh code\n",
    "\n",
    "Info \"T1w_nativepro biasfield correction and intensity rescaling\"\n",
    "# Intensity Non-uniform correction - N4\n",
    "Do_cmd N4BiasFieldCorrection  -d 3 -i \"$T1n4\" -r -o \"$T1n4\" -v\n",
    "\n",
    "# Rescale intensity [100,0]\n",
    "Do_cmd ImageMath 3 \"$T1nativepro\" RescaleImage \"$T1n4\" 0 100\n",
    "\n",
    "# If no T1native pro exit_status \"something is wrong\" exit\n",
    "if [ ! -f \"$T1nativepro\" ]; then Error \"$T1str_nat was not generated\"; Do_cmd exit; fi\n",
    "\n",
    "# Brainmask\n",
    "Do_cmd mri_synthstrip -i \"$T1nativepro\" -o \"$T1nativepro_brain\" -m \"$T1nativepro_mask\" --no-csf\n",
    "\n",
    "# If no T1native pro exit_status \"something is wrong\" exit\n",
    "if [ ! -f \"$T1nativepro_brain\" ]; then Error \"$T1str_nat masked was not generated\"; Do_cmd exit; else ((Nsteps++)); fi\n",
    "\n",
    "# Create json file for T1native\n",
    "json_nativepro_T1w \"$T1nativepro\" \"$Nimgs\" \"${bids_T1ws[*]}\" \"${procstruct_json}\""
   ]
  },
  {
   "cell_type": "code",
   "execution_count": null,
   "metadata": {},
   "outputs": [],
   "source": [
    "%%bash\n",
    "# Brain mask\n",
    "mri_synthstrip -i \"$T1nativepro\" -o \"$T1nativepro_brain\" -m \"$T1nativepro_mask\" --no-csf"
   ]
  },
  {
   "cell_type": "code",
   "execution_count": null,
   "metadata": {},
   "outputs": [],
   "source": [
    "%%bash\n",
    "# Normalization\n",
    "antsRegistrationSyNQuick.sh -d 3 -f \"$T1n4\" -m \"$img_fixed\" -o \"$T1n4\" -t s -j 1"
   ]
  },
  {
   "cell_type": "code",
   "execution_count": null,
   "metadata": {},
   "outputs": [],
   "source": [
    "%%bash\n",
    "# Segmentation\n",
    "threads=15\n",
    "\n",
    "mri_synthseg --i ${img_moving} \\\n",
    "             --o ${out}/${id}_moving_synthseg.nii.gz \\\n",
    "             --parc --threads ${threads} --cpu\n",
    "\n",
    "mri_synthseg --i ${img_fixed} \\\n",
    "             --o ${out}/${id}_fixed_synthseg.nii.gz \\\n",
    "             --parc --threads ${threads} --cpu"
   ]
  },
  {
   "cell_type": "code",
   "execution_count": null,
   "metadata": {},
   "outputs": [],
   "source": [
    "%%bash\n",
    "# Registration to MNI\n",
    "mri_easyreg --ref ${img_fixed} \\\n",
    "            --flo ${img_moving} \\\n",
    "            --ref_seg ${out}/${id}_fixed_synthseg.nii.gz \\\n",
    "            --flo_seg ${out}/${id}_moving_synthseg.nii.gz \\\n",
    "            --fwd_field ${out}/${id}_from-moving_to-fixed_mode-image_desc-easyreg.nii.gz \\\n",
    "            --threads ${threads}"
   ]
  }
 ],
 "metadata": {
  "kernelspec": {
   "display_name": "Python 3 (ipykernel)",
   "language": "python",
   "name": "python3"
  },
  "language_info": {
   "codemirror_mode": {
    "name": "ipython",
    "version": 3
   },
   "file_extension": ".py",
   "mimetype": "text/x-python",
   "name": "python",
   "nbconvert_exporter": "python",
   "pygments_lexer": "ipython3",
   "version": "3.11.5"
  }
 },
 "nbformat": 4,
 "nbformat_minor": 2
}
