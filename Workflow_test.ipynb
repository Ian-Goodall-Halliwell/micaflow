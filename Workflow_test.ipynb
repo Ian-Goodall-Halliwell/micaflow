{
 "cells": [
  {
   "cell_type": "markdown",
   "metadata": {},
   "source": [
    "# Workflow test for `micaflow`\n",
    "\n",
    "## Inputs in BIDS\n",
    "\n",
    "- BIDS directory example: `/data/mica3/BIDS_MICs/rawdata`\n",
    "\n",
    "- subject for test `sub-HC126`\n",
    "\n",
    "- session `ses-01`\n",
    "\n",
    "- T1w input test: `/data/mica3/BIDS_MICs/rawdata/sub-HC126/ses-01/anat/sub-HC126_ses-01_T1w.nii.gz`\n",
    "\n",
    "\n",
    "## Output structure\n",
    "where type can be `T1w`, `FLAIR`, or `T2w`.\n",
    "https://bids-specification.readthedocs.io/en/stable/modality-specific-files/magnetic-resonance-imaging-data.html\n",
    "\n",
    "\n",
    "BIDS specifications. \n",
    "`OUTDIR/sub-SUBJECT/ses-SESSION/anat/sub-SUBJECT_ses-SESSION_TYPE.nii.gz`\n",
    "\n",
    "\n",
    "## Dependencies\n",
    "1. freesurfer 7.4.0\n",
    "\n",
    "2. ANTS maybe yes maybe no\n",
    "\n",
    "3. python. What packages?\n",
    "\n",
    "## workflow \n",
    "1. Bias field correction (ATNs) \n",
    "\n",
    "2. Brain mask `mri_synthstrip` Maybe this stept can be avoided and we might be able to use the brain segmentation\n",
    "3. Normalization\n",
    "\n",
    "4. Brain segmentation `synth_seg` from freesurfer\n",
    "5. Registration to MNI\n",
    "\n",
    "\n",
    "### Intensity Non-uniform correction - N4\n",
    "```bash\n",
    "N4BiasFieldCorrection  -d 3 -i \"$T1n4\" -r -o \"$T1n4\" -v\n",
    "```\n",
    "\n",
    "### Brain mask\n",
    "```bash\n",
    "mri_synthstrip -i \"$T1nativepro\" -o \"$T1nativepro_brain\" -m \"$T1nativepro_mask\" --no-csf\n",
    "```\n",
    "\n",
    "### Normalization `02_proc_flair`\n",
    "\n",
    "### Segmentation 'synth_seg'\n",
    "\n",
    "```bash\n",
    "# Define variables\n",
    "out=/host/yeatman/local_raid/rcruces/data/tmp\n",
    "\n",
    "img_fixed=/data_/mica3/BIDS_PNI/derivatives/micapipe_v0.2.0/sub-PNC019/ses-03/anat/sub-PNC019_ses-03_space-nativepro_T1w_nlm.nii.gz\n",
    "\n",
    "img_moving=/data_/mica3/BIDS_PNI/derivatives/Denoised_T2star/10PNC_nomask/sub-PNC019_ses-03_B1-corrected_T2starmap_nomask_denoised.nii\n",
    "\n",
    "id=sub-PNC019_ses-03\n",
    "outname=${out}/${id}_space-nativepro_T2star.nii.gz\n",
    "\n",
    "threads=15\n",
    "\n",
    "# Use synthseg to get the labels of the fixed and moving image\n",
    "mri_synthseg --i ${img_moving} \\\n",
    "             --o ${out}/${id}_moving_synthseg.nii.gz \\\n",
    "             --parc --threads ${threads} --cpu\n",
    "\n",
    "mri_synthseg --i ${img_fixed} \\\n",
    "             --o ${out}/${id}_fixed_synthseg.nii.gz \\\n",
    "             --parc --threads ${threads} --cpu\n",
    "\n",
    "```\n",
    "\n",
    "### Registration to MNI `easy_reg`\n",
    "```bash\n",
    "# Calculate the warpfield and affine transformation with easyreg\n",
    "mri_easyreg --ref ${img_fixed} \\\n",
    "            --flo ${img_moving} \\\n",
    "            --ref_seg ${out}/${id}_fixed_synthseg.nii.gz \\\n",
    "            --flo_seg ${out}/${id}_moving_synthseg.nii.gz \\\n",
    "            --fwd_field ${out}/${id}_from-moving_to-fixed_mode-image_desc-easyreg.nii.gz \\\n",
    "            --threads ${threads} \n",
    "```\n"
   ]
  },
  {
   "cell_type": "code",
   "execution_count": null,
   "metadata": {},
   "outputs": [],
   "source": [
    "%%bash\n",
    "# Define variables\n",
    "out=/host/yeatman/local_raid/cerys/data\n",
    "\n",
    "i"
   ]
  },
  {
   "cell_type": "code",
   "execution_count": 4,
   "metadata": {
    "scrolled": true
   },
   "outputs": [],
   "source": [
    "%%bash\n",
    "out=/host/yeatman/local_raid/cerys/data\n",
    "\n",
    "img_fixed=/host/yeatman/local_raid/cerys/Downloads/mni_icbm152_nlin_sym_09a/mni_icbm152_t1_tal_nlin_sym_09a.nii\n",
    "\n",
    "img_moving=/data/mica3/BIDS_MICs/rawdata/sub-HC126/ses-01/anat/sub-HC126_ses-01_T1w.nii.gz\n",
    "\n",
    "id=sub-HC126_ses-01"
   ]
  },
  {
   "cell_type": "code",
   "execution_count": 5,
   "metadata": {},
   "outputs": [
    {
     "name": "stderr",
     "output_type": "stream",
     "text": [
      "usage: mri_synthseg [-h] [--i I] [--o O] [--parc] [--robust] [--fast]\n",
      "                    [--vol VOL] [--qc QC] [--post POST] [--resample RESAMPLE]\n",
      "                    [--crop CROP [CROP ...]] [--threads THREADS] [--cpu]\n",
      "                    [--v1]\n",
      "mri_synthseg: error: argument --i: expected one argument\n"
     ]
    }
   ],
   "source": [
    "%%bash\n",
    "atlas= mri_synthseg --i ${img_fixed} \\\n",
    "             --o ${out}/${id}_fixed_synthseg.nii.gz \\\n",
    "             --parc --threads ${threads} --cpu"
   ]
  },
  {
   "cell_type": "code",
   "execution_count": null,
   "metadata": {},
   "outputs": [],
   "source": []
  }
 ],
 "metadata": {
  "kernelspec": {
   "display_name": "Python 3",
   "language": "python",
   "name": "python3"
  },
  "language_info": {
   "codemirror_mode": {
    "name": "ipython",
    "version": 3
   },
   "file_extension": ".py",
   "mimetype": "text/x-python",
   "name": "python",
   "nbconvert_exporter": "python",
   "pygments_lexer": "ipython3",
   "version": "3.6.9"
  }
 },
 "nbformat": 4,
 "nbformat_minor": 2
}
